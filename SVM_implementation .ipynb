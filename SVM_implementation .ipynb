{
 "cells": [
  {
   "cell_type": "code",
   "execution_count": 133,
   "metadata": {},
   "outputs": [],
   "source": [
    "import pandas as pd\n",
    "from sklearn.svm import SVC\n",
    "from sklearn.model_selection import train_test_split\n",
    "import numpy as np\n",
    "d_f = pd.read_csv(\"/home/karthik/Downloads/Iris.csv\")\n"
   ]
  },
  {
   "cell_type": "code",
   "execution_count": 141,
   "metadata": {},
   "outputs": [],
   "source": [
    "class svm1:\n",
    "    def __init__(self, W1= 1, W2 = 1):\n",
    "        self.w1 = W1\n",
    "        self.w2 = W2\n",
    "        \n",
    "    def svm_train(self, train_x, train_y):\n",
    "        w1 = self.w1\n",
    "        w2 = self.w2\n",
    "        epoch = 1\n",
    "        count = 0\n",
    "        alpha_ = 0.00001\n",
    "        while epoch < 10000:\n",
    "            count = 0\n",
    "            y = self.w1*train_x[:,0] + self.w2* train_x[:,1]\n",
    "            y_pred = y*train_y\n",
    "            lambda_ = 1/epoch\n",
    "#             print(\"Epoch : \", epoch)\n",
    "            for val in y_pred:\n",
    "                if val > 1:\n",
    "                    cost = 0\n",
    "                    self.w1 = self.w1 - 2*alpha_*lambda_*self.w1\n",
    "                    self.w2 = self.w2 - 2*alpha_*lambda_*self.w2\n",
    "                else:\n",
    "                    cost = 1-y_pred\n",
    "        #             print(\"Epoch :\", epoch, \" count : \", count, \" Cost :\", cost)\n",
    "\n",
    "                    self.w1 = self.w1 + 2*alpha_*(train_y[count]*train_x[count,0]-lambda_*self.w1)\n",
    "                    self.w2 = self.w2 + 2*alpha_*(train_y[count]*train_x[count,1]-lambda_*self.w2)\n",
    "                count = count + 1\n",
    "        #     print(y_pred)\n",
    "            epoch = epoch + 1\n",
    "#         print(self.w1, self.w2)\n",
    "    def svm_predict(self, test_x):\n",
    "        pred = self.w1*test_x[:,0] + self.w2*test_x[:,1]\n",
    "        pred_ = []\n",
    "        for i in pred:\n",
    "            if i > 0:\n",
    "                pred_.append(1)\n",
    "            else:\n",
    "                pred_.append(-1)\n",
    "        self.pred = pred_"
   ]
  },
  {
   "cell_type": "code",
   "execution_count": 142,
   "metadata": {},
   "outputs": [
    {
     "name": "stdout",
     "output_type": "stream",
     "text": [
      "75\n",
      "pred :  [-1, -1, -1, 1, 1, 1, 1, 1, -1, 1, -1, 1, -1, 1, 1, -1, -1, 1, -1, -1, -1, 1, -1, 1, -1]\n",
      "test_y : [-1 -1 -1  1  1  1  1  1 -1  1 -1  1 -1  1  1 -1 -1  1 -1 -1 -1  1 -1  1\n",
      " -1]\n"
     ]
    },
    {
     "name": "stderr",
     "output_type": "stream",
     "text": [
      "/home/karthik/.local/lib/python3.6/site-packages/sklearn/svm/base.py:196: FutureWarning: The default value of gamma will change from 'auto' to 'scale' in version 0.22 to account better for unscaled features. Set gamma explicitly to 'auto' or 'scale' to avoid this warning.\n",
      "  \"avoid this warning.\", FutureWarning)\n"
     ]
    }
   ],
   "source": [
    "# print(d_f[\"Species\"].unique())\n",
    "case1 = d_f['Species'] == \"Iris-setosa\"\n",
    "case2 = d_f['Species'] == \"Iris-versicolor\"\n",
    "d_f2 = d_f[case1].append(d_f[case2])\n",
    "# print(d_f2[\"Species\"].unique())\n",
    "Y = []\n",
    "for i in d_f2[\"Species\"]:\n",
    "    if i == \"Iris-setosa\":\n",
    "        Y.append(1)\n",
    "    elif i == \"Iris-versicolor\":\n",
    "        Y.append(-1)\n",
    "# print(Y)\n",
    "Y = np.array(Y) \n",
    "# print(d_f2.keys())\n",
    "d_f2.drop([\"Species\", \"Id\"], axis = 1)\n",
    "x1 = np.array(d_f2[\"SepalLengthCm\"])\n",
    "x2 = np.array(d_f2[\"SepalWidthCm\"])\n",
    "x3 = np.array(d_f2[\"PetalLengthCm\"])\n",
    "x4 = np.array(d_f2[\"PetalWidthCm\"])\n",
    "X = np.vstack([x1,x2,x3,x4])\n",
    "train_x,test_x,train_y, test_y =  train_test_split(X.T,Y)\n",
    "train_x.shape\n",
    "svm = SVC()\n",
    "svm.fit(train_x, train_y)\n",
    "y_pred = svm.predict(test_x[0:2,:])\n",
    "# print(\"y_pred : \", y_pred)\n",
    "# print(\"test_y : \", test_y)\n",
    "\n",
    "print(train_x[:,1].shape[0])\n",
    "# w1 = np.random.random(train_x[:,0].shape[0])\n",
    "# w2 = np.random.random(train_x[:,1].shape[0])\n",
    "\n",
    "        \n",
    "# w1 = w2 = 1\n",
    "# svm_train(w1,w2,train_x, train_y)\n",
    "net1 = svm1(1,1)\n",
    "net1.svm_train(train_x, train_y)\n",
    "net1.svm_predict(test_x)\n",
    "# print(net1.pred)\n",
    "# print(net1.w1, net1.w2)\n",
    "print(\"pred : \", net1.pred)\n",
    "print(\"test_y :\", test_y )\n"
   ]
  },
  {
   "cell_type": "code",
   "execution_count": 130,
   "metadata": {},
   "outputs": [],
   "source": [
    "# print(net1.w1,net1.w2)\n",
    "# pred = (net1.w1)*test_x[:,0] + (net1.w2)*test_x[:,1]\n",
    "# pred_ = []\n",
    "# for i in pred:\n",
    "#     if i > 0:\n",
    "#         pred_.append(1)\n",
    "#     else:\n",
    "#         pred_.append(-1)\n",
    "# print(\"pred : \", pred_)\n",
    "# print(\"test_y :\", test_y)"
   ]
  }
 ],
 "metadata": {
  "kernelspec": {
   "display_name": "Python 3",
   "language": "python",
   "name": "python3"
  },
  "language_info": {
   "codemirror_mode": {
    "name": "ipython",
    "version": 3
   },
   "file_extension": ".py",
   "mimetype": "text/x-python",
   "name": "python",
   "nbconvert_exporter": "python",
   "pygments_lexer": "ipython3",
   "version": "3.6.9"
  }
 },
 "nbformat": 4,
 "nbformat_minor": 2
}
