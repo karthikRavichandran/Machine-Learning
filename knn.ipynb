{
 "cells": [
  {
   "cell_type": "code",
   "execution_count": 267,
   "metadata": {},
   "outputs": [
    {
     "data": {
      "text/plain": [
       "array([[14,  0,  0],\n",
       "       [ 0, 12,  1],\n",
       "       [ 0,  0, 11]])"
      ]
     },
     "execution_count": 267,
     "metadata": {},
     "output_type": "execute_result"
    }
   ],
   "source": [
    "import numpy as np\n",
    "import pandas as pd\n",
    "import matplotlib.pyplot as plt\n",
    "import math\n",
    "from sklearn.metrics import confusion_matrix\n",
    "from sklearn.model_selection import train_test_split\n",
    "file = \"/home/karthik/Downloads/Iris.csv\"\n",
    "d_f = pd.read_csv(file)\n",
    "# d_f  = d_f.drop([\"Id\"], axis = 1)\n",
    "# print(d_f)\n",
    "Y = d_f[\"Species\"].to_numpy()\n",
    "d_f  = d_f.drop([\"Id\", \"Species\"], axis = 1)\n",
    "X = d_f.to_numpy()\n",
    "train_x,test_x, train_y, test_y = train_test_split(X,Y)\n",
    "count = 0\n",
    "pred_y = []\n",
    "for i in test_x:\n",
    "    pred = KNN(i, train_x,train_y)\n",
    "#     print(pred)\n",
    "    pred_y.append(pred)\n",
    "#     print(test_y[count])\n",
    "    count = count + 1\n",
    "confusion_matrix(test_y, pred_y)"
   ]
  },
  {
   "cell_type": "code",
   "execution_count": 168,
   "metadata": {},
   "outputs": [
    {
     "name": "stdout",
     "output_type": "stream",
     "text": [
      "Iris-virginica\n",
      "Iris-virginica\n",
      "Iris-versicolor\n",
      "Iris-versicolor\n",
      "Iris-virginica\n",
      "Iris-versicolor\n",
      "Iris-setosa\n",
      "Iris-setosa\n",
      "Iris-virginica\n",
      "Iris-virginica\n",
      "Iris-setosa\n",
      "Iris-setosa\n",
      "Iris-versicolor\n",
      "Iris-versicolor\n",
      "Iris-setosa\n",
      "Iris-setosa\n",
      "Iris-setosa\n",
      "Iris-setosa\n",
      "Iris-versicolor\n",
      "Iris-versicolor\n",
      "Iris-setosa\n",
      "Iris-setosa\n",
      "Iris-versicolor\n",
      "Iris-versicolor\n",
      "Iris-setosa\n",
      "Iris-setosa\n",
      "Iris-setosa\n",
      "Iris-setosa\n",
      "Iris-setosa\n",
      "Iris-setosa\n",
      "Iris-setosa\n",
      "Iris-setosa\n",
      "Iris-setosa\n",
      "Iris-setosa\n",
      "Iris-versicolor\n",
      "Iris-versicolor\n",
      "Iris-setosa\n",
      "Iris-setosa\n",
      "Iris-versicolor\n",
      "Iris-versicolor\n",
      "Iris-virginica\n",
      "Iris-virginica\n",
      "Iris-virginica\n",
      "Iris-virginica\n",
      "Iris-versicolor\n",
      "Iris-versicolor\n",
      "Iris-setosa\n",
      "Iris-setosa\n",
      "Iris-versicolor\n",
      "Iris-versicolor\n",
      "Iris-virginica\n",
      "Iris-virginica\n",
      "Iris-virginica\n",
      "Iris-virginica\n",
      "Iris-versicolor\n",
      "Iris-versicolor\n",
      "Iris-setosa\n",
      "Iris-setosa\n",
      "Iris-versicolor\n",
      "Iris-versicolor\n",
      "Iris-setosa\n",
      "Iris-setosa\n",
      "Iris-versicolor\n",
      "Iris-versicolor\n",
      "Iris-versicolor\n",
      "Iris-versicolor\n",
      "Iris-versicolor\n",
      "Iris-versicolor\n",
      "Iris-setosa\n",
      "Iris-setosa\n",
      "Iris-virginica\n",
      "Iris-virginica\n",
      "Iris-virginica\n",
      "Iris-virginica\n",
      "Iris-versicolor\n",
      "Iris-versicolor\n"
     ]
    },
    {
     "data": {
      "text/plain": [
       "array([[15,  0,  0],\n",
       "       [ 0, 14,  1],\n",
       "       [ 0,  0,  8]])"
      ]
     },
     "execution_count": 168,
     "metadata": {},
     "output_type": "execute_result"
    }
   ],
   "source": [
    "def dist_cal_1(Quary, ref):\n",
    "    dist_cal = []\n",
    "    for i in range(len(ref)):\n",
    "        dif = ref[i] - Quary\n",
    "        sum_sq = 0\n",
    "        for val in dif:\n",
    "            sum_sq = sum_sq + math.pow(val,2)\n",
    "        dist_cal.append(sum_sq)\n",
    "    return dist_cal\n",
    "\n",
    "def KNN(ref, train_x, train_y, K=10):\n",
    "    dist_cal = dist_cal_1(ref, train_x)\n",
    "    dist_convert = [(index,value) for index, value in enumerate(dist_cal)] \n",
    "    dist_convert = sorted(dist_convert, key = lambda x:x[1], reverse = False)\n",
    "    dist_slice = dist_convert[:K]\n",
    "    y_pred = []\n",
    "    for i,val in dist_slice:\n",
    "        y_pred.append(train_y[i])\n",
    "    pred, frq = np.unique(y_pred, return_counts = True)\n",
    "    out_pred_class = sorted(set(zip(pred,frq)), key = lambda x:x[1], reverse = True)\n",
    "    out_classes = out_pred_class[0][0]\n",
    "    return out_classes"
   ]
  }
 ],
 "metadata": {
  "kernelspec": {
   "display_name": "Python 3",
   "language": "python",
   "name": "python3"
  },
  "language_info": {
   "codemirror_mode": {
    "name": "ipython",
    "version": 3
   },
   "file_extension": ".py",
   "mimetype": "text/x-python",
   "name": "python",
   "nbconvert_exporter": "python",
   "pygments_lexer": "ipython3",
   "version": "3.6.9"
  }
 },
 "nbformat": 4,
 "nbformat_minor": 2
}
